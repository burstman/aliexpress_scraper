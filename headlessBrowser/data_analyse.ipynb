{
 "cells": [
  {
   "cell_type": "code",
   "execution_count": null,
   "id": "97cd78fc",
   "metadata": {},
   "outputs": [
    {
     "name": "stdout",
     "output_type": "stream",
     "text": [
      "<class 'list'>\n"
     ]
    }
   ],
   "source": [
    "import pandas as pd\n",
    "import matplotlib.pyplot as plt\n",
    "import json\n",
    "\n",
    "with open('products.json') as f:\n",
    "    data = json.load(f)\n",
    "\n",
    "dfs=[]\n",
    "for category,items in data.items():\n",
    "    df = pd.DataFrame(items)\n",
    "    dfs.append(df)\n",
    "\n",
    "result = pd.concat(dfs)\n"
   ]
  },
  {
   "cell_type": "code",
   "execution_count": null,
   "id": "f84c4ac4",
   "metadata": {},
   "outputs": [
    {
     "name": "stdout",
     "output_type": "stream",
     "text": [
      "<class 'pandas.core.frame.DataFrame'>\n",
      "RangeIndex: 60 entries, 0 to 59\n",
      "Data columns (total 5 columns):\n",
      " #   Column  Non-Null Count  Dtype  \n",
      "---  ------  --------------  -----  \n",
      " 0   name    60 non-null     object \n",
      " 1   price   52 non-null     float64\n",
      " 2   orders  60 non-null     int64  \n",
      " 3   rating  60 non-null     float64\n",
      " 4   link    60 non-null     object \n",
      "dtypes: float64(2), int64(1), object(2)\n",
      "memory usage: 2.5+ KB\n"
     ]
    }
   ],
   "source": [
    "# Remove \"TND\" and any non-numeric characters except decimal points\n",
    "result['price'] = result['price'].astype(str).str.replace('TND','').str.strip()\n",
    "result['price']=pd.to_numeric(result['price'], errors='coerce')\n",
    "\n",
    "result.info()\n"
   ]
  },
  {
   "cell_type": "code",
   "execution_count": null,
   "id": "d77149a5",
   "metadata": {},
   "outputs": [
    {
     "name": "stdout",
     "output_type": "stream",
     "text": [
      "Top 10 Winning Products:\n",
      "                                                 name  price  orders  rating  \\\n",
      "2   POEDAGAR Luxury Man Watch Quartz Waterproof Lu...  39.87   10000     4.7   \n",
      "4   2025 Hot Brand Stainless Steel Strap Watch Wom...  11.80    5000     4.6   \n",
      "6   POEDAGAR Luxury Watch for Man Quartz Sports Me...  44.35    5000     4.7   \n",
      "15  POEDAGAR Top Luxury Brand Man Watch Sports Wat...  34.87    4000     4.7   \n",
      "10  POEDAGAR Luxury Military Man Watch Square Wate...  42.50    4000     4.7   \n",
      "23  Women Watch Light Luxury Brand Business Gold S...  27.61    3000     4.8   \n",
      "46  Small Oval Dial Green Watch Simple Stainless S...  10.24    2000     4.8   \n",
      "18  UTHAI Men Watch Light Luxury Brand Stainless S...  30.11    3000     4.6   \n",
      "37  Smart GPS Tracer Location Bluetooth Watch with...  20.93    2000     4.8   \n",
      "16  POEDAGAR Luxury Fashion Men Clock Waterproof L...  39.80    3000     4.7   \n",
      "\n",
      "       score  \n",
      "2   0.925879  \n",
      "4   0.802689  \n",
      "6   0.770533  \n",
      "15  0.751914  \n",
      "10  0.742734  \n",
      "23  0.738804  \n",
      "46  0.730690  \n",
      "18  0.719725  \n",
      "37  0.717118  \n",
      "16  0.715963  \n"
     ]
    },
    {
     "data": {
      "image/png": "[encoded data removed]",
      "text/plain": [
       "<Figure size 640x480 with 1 Axes>"
      ]
     },
     "metadata": {},
     "output_type": "display_data"
    }
   ],
   "source": [
    "\n",
    "\n",
    "# Filter for high-rated products\n",
    "filtered_df = result[result['rating'] >= 4.5]\n",
    "\n",
    "# Sort by orders (descending)\n",
    "sorted_df = filtered_df.sort_values(by='orders', ascending=False)\n",
    "\n",
    "# Calculate composite score with price\n",
    "max_orders = result['orders'].max()\n",
    "max_rating = 5\n",
    "max_price = result['price'].max()\n",
    "\n",
    "# Weights for each component (sum to 1)\n",
    "weight_orders = 0.3\n",
    "weight_rating = 0.4\n",
    "weight_price = 0.3\n",
    "\n",
    "# Normalize and calculate score with stronger price penalty\n",
    "sorted_df['score'] = (\n",
    "    (sorted_df['orders'] / max_orders) * weight_orders +\n",
    "    (sorted_df['rating'] / max_rating) * weight_rating +\n",
    "    ((max_price - sorted_df['price']) / max_price)**2 * weight_price  # Square the price component\n",
    ")\n",
    "\n",
    "\n",
    "# Sort by score\n",
    "final_df = sorted_df.sort_values(by='score', ascending=False)\n",
    "\n",
    "# Display top 10 winning products\n",
    "print(\"Top 10 Winning Products:\")\n",
    "print(final_df[['name', 'price', 'orders', 'rating', 'score']].head(10))\n",
    "\n",
    "# Visualize orders vs. rating\n",
    "plt.scatter(result['orders'], result['rating'])\n",
    "plt.xlabel('Number of Orders')\n",
    "plt.ylabel('Rating')\n",
    "plt.title('Orders vs. Rating for AliExpress Products')\n",
    "plt.show()\n"
   ]
  }
 ],
 "metadata": {
  "kernelspec": {
   "display_name": ".venv",
   "language": "python",
   "name": "python3"
  },
  "language_info": {
   "codemirror_mode": {
    "name": "ipython",
    "version": 3
   },
   "file_extension": ".py",
   "mimetype": "text/x-python",
   "name": "python",
   "nbconvert_exporter": "python",
   "pygments_lexer": "ipython3",
   "version": "3.12.3"
  }
 },
 "nbformat": 4,
 "nbformat_minor": 5
}
